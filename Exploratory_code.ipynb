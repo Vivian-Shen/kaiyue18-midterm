{
 "cells": [
  {
   "cell_type": "markdown",
   "metadata": {},
   "source": [
    "# Libraries"
   ]
  },
  {
   "cell_type": "code",
   "execution_count": 1,
   "metadata": {},
   "outputs": [],
   "source": [
    "import pandas as pd\n",
    "import numpy as np\n",
    "import seaborn as sns\n",
    "import matplotlib.pyplot as plt\n",
    "from os.path import exists\n",
    "from sklearn.model_selection import train_test_split, GridSearchCV\n",
    "from sklearn.neighbors import KNeighborsClassifier\n",
    "from sklearn.tree import DecisionTreeClassifier\n",
    "from sklearn.preprocessing import StandardScaler, OneHotEncoder\n",
    "from sklearn.feature_extraction.text import TfidfVectorizer\n",
    "from sklearn.metrics import accuracy_score, confusion_matrix\n",
    "from scipy.sparse import hstack, csr_matrix\n",
    "from nltk.corpus import stopwords\n",
    "import warnings\n",
    "import re\n",
    "\n",
    "warnings.filterwarnings('ignore')"
   ]
  },
  {
   "cell_type": "markdown",
   "metadata": {},
   "source": [
    "# Loading the Files\n",
    "\n",
    "Download the csv files into the `data/` directory."
   ]
  },
  {
   "cell_type": "code",
   "execution_count": 2,
   "metadata": {
    "scrolled": true
   },
   "outputs": [
    {
     "name": "stdout",
     "output_type": "stream",
     "text": [
      "train.csv shape is  (1697533, 9)\n",
      "test.csv shape is  (212192, 2)\n",
      "\n",
      "        Id   ProductId          UserId  HelpfulnessNumerator  \\\n",
      "0   914403  B0009W5KHM   AV6QDP8Q0ONK4                     2   \n",
      "1   354887  6303079709  A2I8RXJN80A2D2                     0   \n",
      "2  1407653  B004H0M2XC  A3FHV3RV8Z12E6                     0   \n",
      "3  1377458  B003ZJ9536  A12VLTA3ZHVPUY                     1   \n",
      "4   475323  630574453X  A13NM1PES9OXVN                     2   \n",
      "\n",
      "   HelpfulnessDenominator        Time  \\\n",
      "0                       2  1341014400   \n",
      "1                       0  1168819200   \n",
      "2                       0  1386201600   \n",
      "3                       1  1348704000   \n",
      "4                       3   970012800   \n",
      "\n",
      "                                         Summary  \\\n",
      "0                                  GOOD FUN FILM   \n",
      "1                                   Movie Review   \n",
      "2             When is it a good time to Consent?   \n",
      "3                                          TRUTH   \n",
      "4  Intelligent and bittersweet -- stays with you   \n",
      "\n",
      "                                                Text  Score  \n",
      "0  While most straight to DVD films are not worth...    5.0  \n",
      "1  I have wanted this one for sometime, also.  I ...    5.0  \n",
      "2  Actually this was a pretty darn good indie fil...    4.0  \n",
      "3  Episodes 37 to 72 of the series press on in a ...    5.0  \n",
      "4  I was really impressed with this movie, but wa...    3.0  \n",
      "\n",
      "        Id  Score\n",
      "0  1323432    NaN\n",
      "1  1137299    NaN\n",
      "2  1459366    NaN\n",
      "3   931601    NaN\n",
      "4  1311995    NaN\n",
      "\n",
      "                 Id  HelpfulnessNumerator  HelpfulnessDenominator  \\\n",
      "count  1.697533e+06          1.697533e+06            1.697533e+06   \n",
      "mean   8.487660e+05          3.569048e+00            5.301422e+00   \n",
      "std    4.900357e+05          1.727883e+01            2.024445e+01   \n",
      "min    0.000000e+00          0.000000e+00            0.000000e+00   \n",
      "25%    4.243830e+05          0.000000e+00            0.000000e+00   \n",
      "50%    8.487660e+05          1.000000e+00            1.000000e+00   \n",
      "75%    1.273149e+06          3.000000e+00            5.000000e+00   \n",
      "max    1.697532e+06          6.084000e+03            6.510000e+03   \n",
      "\n",
      "               Time         Score  \n",
      "count  1.697533e+06  1.485341e+06  \n",
      "mean   1.262422e+09  4.110517e+00  \n",
      "std    1.289277e+08  1.197651e+00  \n",
      "min    8.793792e+08  1.000000e+00  \n",
      "25%    1.164413e+09  4.000000e+00  \n",
      "50%    1.307491e+09  5.000000e+00  \n",
      "75%    1.373242e+09  5.000000e+00  \n",
      "max    1.406074e+09  5.000000e+00  \n"
     ]
    },
    {
     "data": {
      "image/png": "[encoded data removed]",
      "text/plain": [
       "<Figure size 432x288 with 1 Axes>"
      ]
     },
     "metadata": {
      "needs_background": "light"
     },
     "output_type": "display_data"
    },
    {
     "name": "stdout",
     "output_type": "stream",
     "text": [
      "\n",
      "EVERYTHING IS PROPERLY SET UP! YOU ARE READY TO START\n"
     ]
    }
   ],
   "source": [
    "trainingSet = pd.read_csv(\"./data/train.csv\")\n",
    "testingSet = pd.read_csv(\"./data/test.csv\")\n",
    "\n",
    "print(\"train.csv shape is \", trainingSet.shape)\n",
    "print(\"test.csv shape is \", testingSet.shape)\n",
    "\n",
    "print()\n",
    "\n",
    "print(trainingSet.head())\n",
    "print()\n",
    "print(testingSet.head())\n",
    "\n",
    "print()\n",
    "\n",
    "print(trainingSet.describe())\n",
    "\n",
    "trainingSet['Score'].value_counts().plot(kind='bar', legend=True, alpha=.5)\n",
    "plt.show()\n",
    "\n",
    "print()\n",
    "print(\"EVERYTHING IS PROPERLY SET UP! YOU ARE READY TO START\")"
   ]
  },
  {
   "cell_type": "code",
   "execution_count": 20,
   "metadata": {},
   "outputs": [],
   "source": [
    "fives = trainingSet.loc[trainingSet['Score'] == 5]\n",
    "fives = fives.sample(frac=0.5)\n",
    "trainingSet = pd.concat([trainingSet.loc[trainingSet['Score'] != 5], fives])"
   ]
  },
  {
   "cell_type": "code",
   "execution_count": 4,
   "metadata": {},
   "outputs": [
    {
     "data": {
      "image/png": "[encoded data removed]",
      "text/plain": [
       "<Figure size 432x288 with 1 Axes>"
      ]
     },
     "metadata": {
      "needs_background": "light"
     },
     "output_type": "display_data"
    }
   ],
   "source": [
    "trainingSet['Score'].value_counts().plot(kind='bar', legend=True, alpha=.5)\n",
    "plt.show()"
   ]
  },
  {
   "cell_type": "markdown",
   "metadata": {},
   "source": [
    "# Adding Features"
   ]
  },
  {
   "cell_type": "code",
   "execution_count": 3,
   "metadata": {},
   "outputs": [],
   "source": [
    "def add_features_to(df):\n",
    "    # This is where you can do all your feature extraction\n",
    "\n",
    "    df['Helpfulness'] = df['HelpfulnessNumerator'] / df['HelpfulnessDenominator']\n",
    "    df['Helpfulness'] = df['Helpfulness'].fillna(0)\n",
    "    \n",
    "    # Length of review text\n",
    "    df['ReviewLength'] = df['Text'].apply(lambda x: len(str(x)) if pd.notnull(x) else 0)\n",
    "    \n",
    "    # Extracting year from time (Unix timestamp)\n",
    "    df['Year'] = pd.to_datetime(df['Time'], unit='s').dt.year\n",
    "\n",
    "    return df\n",
    "\n",
    "# Load the feature extracted files if they've already been generated\n",
    "if exists('./data/X_train.csv'):\n",
    "    X_train = pd.read_csv(\"./data/X_train.csv\")\n",
    "if exists('./data/X_submission.csv'):\n",
    "    X_submission = pd.read_csv(\"./data/X_submission.csv\")\n",
    "\n",
    "else:\n",
    "    # Process the DataFrame\n",
    "    train = add_features_to(trainingSet)\n",
    "\n",
    "    # Merge on Id so that the submission set can have feature columns as well\n",
    "    X_submission = pd.merge(train, testingSet, left_on='Id', right_on='Id')\n",
    "    X_submission = X_submission.drop(columns=['Score_x'])\n",
    "    X_submission = X_submission.rename(columns={'Score_y': 'Score'})\n",
    "\n",
    "    # The training set is where the score is not null\n",
    "    X_train =  train[train['Score'].notnull()]\n",
    "\n",
    "    X_submission.to_csv(\"./data/X_submission.csv\", index=False)\n",
    "    X_train.to_csv(\"./data/X_train.csv\", index=False)"
   ]
  },
  {
   "cell_type": "code",
   "execution_count": 25,
   "metadata": {},
   "outputs": [],
   "source": [
    "# Cleaning text\n",
    "def clean_text(doc):\n",
    "    doc = str(doc).lower()\n",
    "    doc = re.sub(r'[^a-z\\s]', '', doc)\n",
    "    return doc\n",
    "\n",
    "X_train['Text'] = X_train['Text'].apply(clean_text)\n",
    "X_train['Summary'] = X_train['Summary'].apply(clean_text)\n",
    "\n",
    "X_submission['Text'] = X_submission['Text'].apply(clean_text)\n",
    "X_submission['Summary'] = X_submission['Summary'].apply(clean_text)"
   ]
  },
  {
   "cell_type": "code",
   "execution_count": 4,
   "metadata": {},
   "outputs": [],
   "source": [
    "# Cleaning text\n",
    "def clean_text(doc):\n",
    "    doc = str(doc).lower()\n",
    "    doc = re.sub(r'[^a-z\\s]', '', doc)\n",
    "    return doc\n",
    "\n",
    "X_train['Textual_Info'] = X_train['Text'].fillna('') + \" \" + X_train['Summary'].fillna('')\n",
    "X_train['Textual_Info'] = X_train['Textual_Info'].apply(clean_text)\n",
    "\n",
    "X_submission['Textual_Info'] = X_submission['Text'].fillna('') + \" \" + X_submission['Summary'].fillna('')\n",
    "X_submission['Textual_Info'] = X_submission['Textual_Info'].apply(clean_text)"
   ]
  },
  {
   "cell_type": "markdown",
   "metadata": {},
   "source": [
    "# Sample + Split into training and testing set"
   ]
  },
  {
   "cell_type": "code",
   "execution_count": 5,
   "metadata": {},
   "outputs": [],
   "source": [
    "# Split training set into training and testing set\n",
    "X_train, X_test, Y_train, Y_test = train_test_split(\n",
    "    X_train.drop(columns=['Score']),\n",
    "    X_train['Score'],\n",
    "    test_size=1/4.0,\n",
    "    random_state=0\n",
    ")"
   ]
  },
  {
   "cell_type": "markdown",
   "metadata": {},
   "source": [
    "# Feature Selection"
   ]
  },
  {
   "cell_type": "code",
   "execution_count": 6,
   "metadata": {},
   "outputs": [
    {
     "name": "stderr",
     "output_type": "stream",
     "text": [
      "[nltk_data] Downloading package stopwords to\n",
      "[nltk_data]     C:\\Users\\SHIZUNE\\AppData\\Roaming\\nltk_data...\n",
      "[nltk_data]   Package stopwords is already up-to-date!\n"
     ]
    },
    {
     "data": {
      "text/plain": [
       "True"
      ]
     },
     "execution_count": 6,
     "metadata": {},
     "output_type": "execute_result"
    }
   ],
   "source": [
    "import nltk\n",
    "nltk.download('stopwords')"
   ]
  },
  {
   "cell_type": "code",
   "execution_count": 7,
   "metadata": {},
   "outputs": [],
   "source": [
    "# Numeric features\n",
    "numeric_features = ['HelpfulnessNumerator', 'HelpfulnessDenominator', 'Helpfulness', 'ReviewLength', 'Year']\n",
    "\n",
    "# Select numeric features from X_train_select, X_test_select, and X_submission_select\n",
    "X_train_numeric = X_train[numeric_features]\n",
    "X_test_numeric = X_test[numeric_features]\n",
    "X_submission_numeric = X_submission[numeric_features]\n",
    "\n",
    "# Vectorize 'Textual_Info' using TF-IDF\n",
    "vectorizer = TfidfVectorizer(stop_words=stopwords.words('english'), max_features = 5000)\n",
    "\n",
    "X_train_tfidf = vectorizer.fit_transform(X_train['Textual_Info'])\n",
    "X_test_tfidf = vectorizer.transform(X_test['Textual_Info'])\n",
    "X_submission_tfidf = vectorizer.transform(X_submission['Textual_Info'])\n",
    "\n",
    "# Scale numeric features (Helpfulness, ReviewLength, Year)\n",
    "scaler = StandardScaler()\n",
    "\n",
    "X_train_numeric_scaled = scaler.fit_transform(X_train_numeric)\n",
    "X_test_numeric_scaled = scaler.transform(X_test_numeric)\n",
    "X_submission_numeric_scaled = scaler.transform(X_submission_numeric)\n",
    "\n",
    "# Combine TF-IDF vectors and scaled numeric features into final training, testing, and submission sets\n",
    "X_train_combined = hstack([X_train_tfidf, csr_matrix(X_train_numeric_scaled)])\n",
    "X_test_combined = hstack([X_test_tfidf, csr_matrix(X_test_numeric_scaled)])\n",
    "X_submission_combined = hstack([X_submission_tfidf, csr_matrix(X_submission_numeric_scaled)])"
   ]
  },
  {
   "cell_type": "code",
   "execution_count": 29,
   "metadata": {},
   "outputs": [],
   "source": [
    "# Numeric features\n",
    "numeric_features = ['HelpfulnessNumerator', 'HelpfulnessDenominator', 'Helpfulness', 'ReviewLength', 'Year']\n",
    "\n",
    "# Select numeric features from X_train_select, X_test_select, and X_submission_select\n",
    "X_train_numeric = X_train[numeric_features]\n",
    "X_test_numeric = X_test[numeric_features]\n",
    "X_submission_numeric = X_submission[numeric_features]\n",
    "\n",
    "# Scale numeric features (Helpfulness, ReviewLength, Year)\n",
    "scaler = StandardScaler()\n",
    "\n",
    "X_train_numeric_scaled = scaler.fit_transform(X_train_numeric)\n",
    "X_test_numeric_scaled = scaler.transform(X_test_numeric)\n",
    "X_submission_numeric_scaled = scaler.transform(X_submission_numeric)\n",
    "\n",
    "# Combine TF-IDF vectors for 'Text' and 'Summary' with the scaled numeric features\n",
    "\n",
    "# Training set\n",
    "X_train_combined = hstack([\n",
    "    X_train_text_tfidf, \n",
    "    X_train_summary_tfidf, \n",
    "    csr_matrix(X_train_numeric_scaled)\n",
    "])\n",
    "\n",
    "# Testing set\n",
    "X_test_combined = hstack([\n",
    "    X_test_text_tfidf, \n",
    "    X_test_summary_tfidf, \n",
    "    csr_matrix(X_test_numeric_scaled)\n",
    "])\n",
    "\n",
    "# Submission set\n",
    "X_submission_combined = hstack([\n",
    "    X_submission_text_tfidf, \n",
    "    X_submission_summary_tfidf, \n",
    "    csr_matrix(X_submission_numeric_scaled)\n",
    "])"
   ]
  },
  {
   "cell_type": "markdown",
   "metadata": {},
   "source": [
    "# Model Creation"
   ]
  },
  {
   "cell_type": "code",
   "execution_count": 8,
   "metadata": {},
   "outputs": [],
   "source": [
    "from scipy.sparse import csr_matrix\n",
    "import numpy as np\n",
    "\n",
    "# Convert the combined training data to CSR format for indexing\n",
    "X_train_combined_csr = csr_matrix(X_train_combined)\n",
    "\n",
    "# Define the number of samples for subsampling\n",
    "num_samples = int(0.5 * X_train_combined_csr.shape[0])  # 50% of the data\n",
    "\n",
    "# Randomly sample indices for subsampling\n",
    "sample_indices = np.random.choice(X_train_combined_csr.shape[0], num_samples, replace=False)\n",
    "\n",
    "# Subsample the combined training data using the sampled indices\n",
    "X_train_combined_sample = X_train_combined_csr[sample_indices]\n",
    "Y_train_sample = Y_train.iloc[sample_indices]"
   ]
  },
  {
   "cell_type": "markdown",
   "metadata": {},
   "source": [
    "## KNN"
   ]
  },
  {
   "cell_type": "code",
   "execution_count": 15,
   "metadata": {},
   "outputs": [
    {
     "name": "stdout",
     "output_type": "stream",
     "text": [
      "Best KNN Accuracy: 0.572247237003684\n"
     ]
    }
   ],
   "source": [
    "from sklearn.neighbors import KNeighborsClassifier\n",
    "from sklearn.model_selection import GridSearchCV\n",
    "\n",
    "# Define the KNN model\n",
    "knn = KNeighborsClassifier()\n",
    "\n",
    "# Define the hyperparameter search space for KNN\n",
    "param_grid_knn = {\n",
    "    'n_neighbors': [5, 10, 20, 30, 50],  # Range of neighbors\n",
    "    'weights': ['uniform', 'distance'],  # Weighting schemes\n",
    "    'p': [1, 2],  # Manhattan (p=1) and Euclidean (p=2) distances\n",
    "}\n",
    "\n",
    "# Perform hyperparameter tuning using GridSearchCV\n",
    "grid_search_knn = GridSearchCV(knn, param_grid_knn, cv=5, scoring='accuracy', n_jobs=-1)\n",
    "grid_search_knn.fit(X_train_combined_sample, Y_train_sample)\n",
    "\n",
    "# Get the best KNN model after hyperparameter tuning\n",
    "best_knn = grid_search_knn.best_estimator_\n",
    "\n",
    "# Predict on the test set\n",
    "Y_test_predictions_knn = best_knn.predict(X_test_combined)\n",
    "\n",
    "# Evaluate the KNN model\n",
    "accuracy_knn = accuracy_score(Y_test, Y_test_predictions_knn)\n",
    "print(f\"Best KNN Accuracy: {accuracy_knn}\")"
   ]
  },
  {
   "cell_type": "markdown",
   "metadata": {},
   "source": [
    "## Decision Tree"
   ]
  },
  {
   "cell_type": "code",
   "execution_count": 16,
   "metadata": {},
   "outputs": [
    {
     "name": "stdout",
     "output_type": "stream",
     "text": [
      "Best Decision Tree Accuracy: 0.570122476678803\n"
     ]
    }
   ],
   "source": [
    "from sklearn.tree import DecisionTreeClassifier\n",
    "\n",
    "# Define the Decision Tree model\n",
    "decision_tree = DecisionTreeClassifier(random_state=0)\n",
    "\n",
    "# Define the hyperparameter search space for Decision Tree\n",
    "param_grid_tree = {\n",
    "    'max_depth': [None, 10, 20, 30, 50, 100],\n",
    "    'min_samples_split': [2, 10, 20, 50, 100],\n",
    "    'min_samples_leaf': [1, 5, 10, 20, 50],\n",
    "    'max_features': [None, 'sqrt', 'log2', 0.5],\n",
    "    'criterion': ['gini', 'entropy'],\n",
    "    'max_leaf_nodes': [None, 10, 20, 50, 100]\n",
    "}\n",
    "\n",
    "# Perform hyperparameter tuning using GridSearchCV\n",
    "grid_search_tree = GridSearchCV(decision_tree, param_grid_tree, cv=3, scoring='accuracy', n_jobs=-1)\n",
    "grid_search_tree.fit(X_train_combined_sample, Y_train_sample)\n",
    "\n",
    "# Get the best Decision Tree model after hyperparameter tuning\n",
    "best_tree = grid_search_tree.best_estimator_\n",
    "\n",
    "# Predict on the test set\n",
    "Y_test_predictions_tree = best_tree.predict(X_test_combined)\n",
    "\n",
    "# Evaluate the Decision Tree model\n",
    "accuracy_tree = accuracy_score(Y_test, Y_test_predictions_tree)\n",
    "print(f\"Best Decision Tree Accuracy: {accuracy_tree}\")"
   ]
  },
  {
   "cell_type": "markdown",
   "metadata": {},
   "source": [
    "## Random Forest"
   ]
  },
  {
   "cell_type": "code",
   "execution_count": 19,
   "metadata": {},
   "outputs": [
    {
     "name": "stdout",
     "output_type": "stream",
     "text": [
      "Best Random Forest Accuracy: 0.5944454617920159\n"
     ]
    }
   ],
   "source": [
    "from sklearn.ensemble import RandomForestClassifier\n",
    "\n",
    "# Define the Random Forest model\n",
    "random_forest = RandomForestClassifier(random_state=0)\n",
    "\n",
    "# Define the hyperparameter search space for Random Forest\n",
    "param_grid_rf = {\n",
    "    'n_estimators': [100, 200, 500],\n",
    "    'max_depth': [None, 10, 20],\n",
    "    'min_samples_split': [2, 10, 20],\n",
    "    'min_samples_leaf': [1, 5, 10],\n",
    "    'criterion': ['gini', 'entropy'],\n",
    "}\n",
    "\n",
    "# Perform hyperparameter tuning using GridSearchCV\n",
    "grid_search_rf = GridSearchCV(random_forest, param_grid_rf, cv=3, scoring='accuracy', n_jobs=-1)\n",
    "grid_search_rf.fit(X_train_combined_sample, Y_train_sample)\n",
    "\n",
    "# Get the best Random Forest model after hyperparameter tuning\n",
    "best_rf = grid_search_rf.best_estimator_\n",
    "\n",
    "# Predict on the test set\n",
    "Y_test_predictions_rf = best_rf.predict(X_test_combined)\n",
    "\n",
    "# Evaluate the Random Forest model\n",
    "accuracy_rf = accuracy_score(Y_test, Y_test_predictions_rf)\n",
    "print(f\"Best Random Forest Accuracy: {accuracy_rf}\")"
   ]
  },
  {
   "cell_type": "markdown",
   "metadata": {},
   "source": [
    "## Logistic Regression"
   ]
  },
  {
   "cell_type": "markdown",
   "metadata": {},
   "source": [
    "In first modeling, logistic regression results in about 0.63 in accuracy, which is much higher than other models. Therefore,I choose Logistic Regression as the final model for the prediction,and continue to tune the hyperparameters."
   ]
  },
  {
   "cell_type": "code",
   "execution_count": 10,
   "metadata": {},
   "outputs": [
    {
     "name": "stdout",
     "output_type": "stream",
     "text": [
      "Best Logistic Regression Accuracy: 0.5715051985745252\n"
     ]
    }
   ],
   "source": [
    "from sklearn.linear_model import LogisticRegression\n",
    "\n",
    "# Define the Logistic Regression model\n",
    "log_reg = LogisticRegression(random_state=0)\n",
    "\n",
    "# Define the hyperparameter search space for Logistic Regression\n",
    "param_grid_log_reg = {\n",
    "    'C': [0.001, 0.01, 0.1, 1, 10, 100],  # Regularization strength\n",
    "    'penalty': ['l1', 'l2', 'elasticnet'],  # Types of regularization\n",
    "    'solver': ['liblinear', 'saga', 'lbfgs'],  # Solvers to explore\n",
    "    'l1_ratio': [0.5],  # Only used if penalty is elasticnet\n",
    "    'max_iter': [100, 200, 500]  # Number of iterations for convergence\n",
    "}\n",
    "\n",
    "\n",
    "# Perform hyperparameter tuning using GridSearchCV\n",
    "grid_search_log_reg = GridSearchCV(log_reg, param_grid_log_reg, cv=3, scoring='accuracy', n_jobs=-1)\n",
    "grid_search_log_reg.fit(X_train_combined_sample, Y_train_sample)\n",
    "\n",
    "# Get the best Logistic Regression model after hyperparameter tuning\n",
    "best_log_reg = grid_search_log_reg.best_estimator_\n",
    "\n",
    "# Predict on the test set\n",
    "Y_test_predictions_log_reg = best_log_reg.predict(X_test_combined)\n",
    "\n",
    "# Evaluate the Logistic Regression model\n",
    "accuracy_log_reg = accuracy_score(Y_test, Y_test_predictions_log_reg)\n",
    "print(f\"Best Logistic Regression Accuracy: {accuracy_log_reg}\")"
   ]
  },
  {
   "cell_type": "code",
   "execution_count": 15,
   "metadata": {},
   "outputs": [
    {
     "name": "stdout",
     "output_type": "stream",
     "text": [
      "Best Logistic Regression Accuracy: 0.6583902449533576\n"
     ]
    }
   ],
   "source": [
    "log_reg = LogisticRegression(max_iter=1000)\n",
    "log_reg.fit(X_train_combined, Y_train)\n",
    "Y_test_predictions_log_reg = log_reg.predict(X_test_combined)\n",
    "accuracy_log_reg = accuracy_score(Y_test, Y_test_predictions_log_reg)\n",
    "print(f\"Best Logistic Regression Accuracy: {accuracy_log_reg}\")"
   ]
  },
  {
   "cell_type": "markdown",
   "metadata": {},
   "source": [
    "# Model Evaluation"
   ]
  },
  {
   "cell_type": "code",
   "execution_count": 16,
   "metadata": {},
   "outputs": [
    {
     "name": "stdout",
     "output_type": "stream",
     "text": [
      "Accuracy on testing set =  0.6583902449533576\n"
     ]
    },
    {
     "data": {
      "image/png": "[encoded data removed]",
      "text/plain": [
       "<Figure size 432x288 with 2 Axes>"
      ]
     },
     "metadata": {
      "needs_background": "light"
     },
     "output_type": "display_data"
    }
   ],
   "source": [
    "# Evaluate your model on the testing set\n",
    "print(\"Accuracy on testing set = \", accuracy_log_reg)\n",
    "\n",
    "# Plot a confusion matrix\n",
    "cm = confusion_matrix(Y_test, Y_test_predictions_log_reg, normalize='true')\n",
    "sns.heatmap(cm, annot=True)\n",
    "plt.title('Confusion matrix of the classifier')\n",
    "plt.xlabel('Predicted')\n",
    "plt.ylabel('True')\n",
    "plt.show()"
   ]
  },
  {
   "cell_type": "markdown",
   "metadata": {},
   "source": [
    "# Create submission file"
   ]
  },
  {
   "cell_type": "code",
   "execution_count": 29,
   "metadata": {},
   "outputs": [],
   "source": [
    "# Create the submission file\n",
    "X_submission['Score'] = log_reg.predict(X_submission_combined)\n",
    "submission = X_submission[['Id', 'Score']]\n",
    "submission.to_csv(\"./data/submission.csv\", index=False)"
   ]
  }
 ],
 "metadata": {
  "kernelspec": {
   "display_name": "Python 3 (ipykernel)",
   "language": "python",
   "name": "python3"
  },
  "language_info": {
   "codemirror_mode": {
    "name": "ipython",
    "version": 3
   },
   "file_extension": ".py",
   "mimetype": "text/x-python",
   "name": "python",
   "nbconvert_exporter": "python",
   "pygments_lexer": "ipython3",
   "version": "3.9.12"
  }
 },
 "nbformat": 4,
 "nbformat_minor": 2
}
